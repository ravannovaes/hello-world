{
 "cells": [
  {
   "cell_type": "markdown",
   "metadata": {},
   "source": [
    "\n"
   ]
  },
  {
   "cell_type": "markdown",
   "metadata": {},
   "source": [
    "![figura1](grafico80211b.png)\n",
    "\n"
   ]
  },
  {
   "cell_type": "markdown",
   "metadata": {},
   "source": [
    "O padrão 802.11 original definiu três tipos de camada física,duas baseadas em espalhamento espectral(spread spectrum) a Frequency Hopping Spread Spectrum(FHSS) e a Direct Sequence Spread Spectrum(DSSS) e uma utilizando infravermelho, mantendo a compatibilidade com o padrão 802.11 com um objetivo de uma maior taxa de transmissão foi criado o 802.11b. O 802.11b opera na faixa de freqüência de 2,4 GHz,e utiliza o DSSs com o código Barker para atingir taxas do 1 Mbps e 2 Mbps(modos do padrão original),sendo adicionado dois novos modos possibilitando taxas de 5,5 Mbps e 11 Mbps,utilizando uma nova técnica de codificação,chamada de Complementary Code Keying (CCK)."
   ]
  },
  {
   "cell_type": "code",
   "execution_count": null,
   "metadata": {},
   "outputs": [],
   "source": []
  },
  {
   "cell_type": "code",
   "execution_count": null,
   "metadata": {},
   "outputs": [],
   "source": []
  }
 ],
 "metadata": {
  "kernelspec": {
   "display_name": "Python 3",
   "language": "python",
   "name": "python3"
  },
  "language_info": {
   "codemirror_mode": {
    "name": "ipython",
    "version": 3
   },
   "file_extension": ".py",
   "mimetype": "text/x-python",
   "name": "python",
   "nbconvert_exporter": "python",
   "pygments_lexer": "ipython3",
   "version": "3.7.3"
  }
 },
 "nbformat": 4,
 "nbformat_minor": 2
}
