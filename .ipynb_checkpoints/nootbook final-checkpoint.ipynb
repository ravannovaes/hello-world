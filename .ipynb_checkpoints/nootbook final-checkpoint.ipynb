{
 "cells": [
  {
   "cell_type": "markdown",
   "metadata": {},
   "source": [
    "# IEEE 802.11b"
   ]
  },
  {
   "cell_type": "markdown",
   "metadata": {},
   "source": [
    "O padrão 802.11 original definiu três tipos de camada física,duas baseadas em espalhamento espectral(spread spectrum) a Frequency Hopping Spread Spectrum(FHSS) e a Direct Sequence Spread Spectrum(DSSS) e uma utilizando infravermelho, mantendo a compatibilidade com o padrão 802.11 com um objetivo de uma maior taxa de transmissão foi criado o 802.11b. O 802.11b opera na faixa de freqüência de 2,4 GHz,e utiliza o DSSs com o código Barker para atingir taxas do 1 Mbps e 2 Mbps(modos do padrão original),sendo adicionado dois novos modos possibilitando taxas de 5,5 Mbps e 11 Mbps,utilizando uma nova técnica de codificação,chamada de Complementary Code Keying (CCK).\n"
   ]
  },
  {
   "cell_type": "markdown",
   "metadata": {},
   "source": [
    "Entendido o padrão vamos utilizar o exemplo de algoritmo adaptação de taxa do ns3,copiando da pasta examples/wireless/rate-adaptation-distance.cc para a pasta scratch e alterarando o código de acordo com o nosso padrão e algorimto de interesse.\n"
   ]
  },
  {
   "cell_type": "markdown",
   "metadata": {},
   "source": [
    "staManager de 802.11n-5GHz para 802.11a\n",
    "apManager de ns3::MinstrelHtWifiManager para ns3::CaraWifiManager\n",
    "standard de ns3::MinstrelHtWifiManager para ns3::CaraWifiManager\n",
    "outputFileName de minstrelHT para cara_plot"
   ]
  },
  {
   "cell_type": "markdown",
   "metadata": {},
   "source": [
    "como default do script \"rate-adaptation-distance.cc\" está configurado para utilizar o padrão 802.11n-5Ghz, juntamente com o algoritmo de adaptação de taxa minstrel,mudamos apenas o tipo de padrão utilizado para 802.11b,e o nome do arquivo outputFileName que será usado pra gerar o o gráfico da axa de transmissão (throughput) vs Distância.\n"
   ]
  },
  {
   "cell_type": "code",
   "execution_count": null,
   "metadata": {},
   "outputs": [],
   "source": [
    "com isso já é possivel executar o arquivo no ns3 utlizando o comando ./waf --run scratch/rate-adaptation-distance.cc,o qual além de compilar também será excutado e será gerado um arquivo do tipo:\n",
    "\n"
   ]
  }
 ],
 "metadata": {
  "kernelspec": {
   "display_name": "Python 3",
   "language": "python",
   "name": "python3"
  },
  "language_info": {
   "codemirror_mode": {
    "name": "ipython",
    "version": 3
   },
   "file_extension": ".py",
   "mimetype": "text/x-python",
   "name": "python",
   "nbconvert_exporter": "python",
   "pygments_lexer": "ipython3",
   "version": "3.7.3"
  }
 },
 "nbformat": 4,
 "nbformat_minor": 2
}
